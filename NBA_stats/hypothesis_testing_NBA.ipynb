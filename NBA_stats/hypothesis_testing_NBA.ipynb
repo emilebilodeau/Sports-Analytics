{
 "cells": [
  {
   "cell_type": "markdown",
   "metadata": {},
   "source": [
    "## Hypothesis Testing"
   ]
  },
  {
   "cell_type": "code",
   "execution_count": 1,
   "metadata": {},
   "outputs": [],
   "source": [
    "import pandas as pd\n",
    "import numpy as np\n",
    "pd.set_option('display.max_columns', None)\n",
    "# package with hypothesis tests\n",
    "import scipy.stats as st"
   ]
  },
  {
   "cell_type": "code",
   "execution_count": null,
   "metadata": {},
   "outputs": [],
   "source": []
  },
  {
   "cell_type": "markdown",
   "metadata": {},
   "source": [
    "### Data"
   ]
  },
  {
   "cell_type": "markdown",
   "metadata": {},
   "source": [
    "You can download the data from [**here**](https://drive.google.com/file/d/19b9lHlkixZhs8yka8zV0QFieao66dUcY/view?usp=sharing). The data contains results of NBA games from seasons 2013/2014 to 2015/2016."
   ]
  },
  {
   "cell_type": "code",
   "execution_count": 2,
   "metadata": {},
   "outputs": [],
   "source": [
    "NBA_df = pd.read_csv('nba_games_2013_2015.csv', sep=';')"
   ]
  },
  {
   "cell_type": "code",
   "execution_count": 3,
   "metadata": {},
   "outputs": [
    {
     "data": {
      "text/html": [
       "<div>\n",
       "<style scoped>\n",
       "    .dataframe tbody tr th:only-of-type {\n",
       "        vertical-align: middle;\n",
       "    }\n",
       "\n",
       "    .dataframe tbody tr th {\n",
       "        vertical-align: top;\n",
       "    }\n",
       "\n",
       "    .dataframe thead th {\n",
       "        text-align: right;\n",
       "    }\n",
       "</style>\n",
       "<table border=\"1\" class=\"dataframe\">\n",
       "  <thead>\n",
       "    <tr style=\"text-align: right;\">\n",
       "      <th></th>\n",
       "      <th>SEASON_ID</th>\n",
       "      <th>TEAM_ID</th>\n",
       "      <th>TEAM_ABBREVIATION</th>\n",
       "      <th>TEAM_NAME</th>\n",
       "      <th>GAME_ID</th>\n",
       "      <th>GAME_DATE</th>\n",
       "      <th>MATCHUP</th>\n",
       "      <th>WL</th>\n",
       "      <th>MIN</th>\n",
       "      <th>PTS</th>\n",
       "      <th>FGM</th>\n",
       "      <th>FGA</th>\n",
       "      <th>FG_PCT</th>\n",
       "      <th>FG3M</th>\n",
       "      <th>FG3A</th>\n",
       "      <th>FG3_PCT</th>\n",
       "      <th>FTM</th>\n",
       "      <th>FTA</th>\n",
       "      <th>FT_PCT</th>\n",
       "      <th>OREB</th>\n",
       "      <th>DREB</th>\n",
       "      <th>REB</th>\n",
       "      <th>AST</th>\n",
       "      <th>STL</th>\n",
       "      <th>BLK</th>\n",
       "      <th>TOV</th>\n",
       "      <th>PF</th>\n",
       "      <th>PLUS_MINUS</th>\n",
       "    </tr>\n",
       "  </thead>\n",
       "  <tbody>\n",
       "    <tr>\n",
       "      <th>0</th>\n",
       "      <td>22015</td>\n",
       "      <td>1610612750</td>\n",
       "      <td>MIN</td>\n",
       "      <td>Minnesota Timberwolves</td>\n",
       "      <td>21501226</td>\n",
       "      <td>2016-04-13</td>\n",
       "      <td>MIN vs. NOP</td>\n",
       "      <td>W</td>\n",
       "      <td>240</td>\n",
       "      <td>144</td>\n",
       "      <td>56</td>\n",
       "      <td>86</td>\n",
       "      <td>0.651</td>\n",
       "      <td>13</td>\n",
       "      <td>28</td>\n",
       "      <td>0.464</td>\n",
       "      <td>19</td>\n",
       "      <td>23</td>\n",
       "      <td>0.826</td>\n",
       "      <td>5</td>\n",
       "      <td>38</td>\n",
       "      <td>43</td>\n",
       "      <td>41</td>\n",
       "      <td>14</td>\n",
       "      <td>8</td>\n",
       "      <td>13</td>\n",
       "      <td>20</td>\n",
       "      <td>35.0</td>\n",
       "    </tr>\n",
       "    <tr>\n",
       "      <th>1</th>\n",
       "      <td>22015</td>\n",
       "      <td>1610612749</td>\n",
       "      <td>MIL</td>\n",
       "      <td>Milwaukee Bucks</td>\n",
       "      <td>21501225</td>\n",
       "      <td>2016-04-13</td>\n",
       "      <td>MIL vs. IND</td>\n",
       "      <td>L</td>\n",
       "      <td>240</td>\n",
       "      <td>92</td>\n",
       "      <td>37</td>\n",
       "      <td>87</td>\n",
       "      <td>0.425</td>\n",
       "      <td>7</td>\n",
       "      <td>23</td>\n",
       "      <td>0.304</td>\n",
       "      <td>11</td>\n",
       "      <td>13</td>\n",
       "      <td>0.846</td>\n",
       "      <td>7</td>\n",
       "      <td>36</td>\n",
       "      <td>43</td>\n",
       "      <td>23</td>\n",
       "      <td>8</td>\n",
       "      <td>3</td>\n",
       "      <td>15</td>\n",
       "      <td>15</td>\n",
       "      <td>-5.0</td>\n",
       "    </tr>\n",
       "    <tr>\n",
       "      <th>2</th>\n",
       "      <td>22015</td>\n",
       "      <td>1610612738</td>\n",
       "      <td>BOS</td>\n",
       "      <td>Boston Celtics</td>\n",
       "      <td>21501217</td>\n",
       "      <td>2016-04-13</td>\n",
       "      <td>BOS vs. MIA</td>\n",
       "      <td>W</td>\n",
       "      <td>240</td>\n",
       "      <td>98</td>\n",
       "      <td>37</td>\n",
       "      <td>86</td>\n",
       "      <td>0.430</td>\n",
       "      <td>5</td>\n",
       "      <td>14</td>\n",
       "      <td>0.357</td>\n",
       "      <td>19</td>\n",
       "      <td>22</td>\n",
       "      <td>0.864</td>\n",
       "      <td>10</td>\n",
       "      <td>29</td>\n",
       "      <td>39</td>\n",
       "      <td>20</td>\n",
       "      <td>7</td>\n",
       "      <td>3</td>\n",
       "      <td>7</td>\n",
       "      <td>20</td>\n",
       "      <td>10.0</td>\n",
       "    </tr>\n",
       "    <tr>\n",
       "      <th>3</th>\n",
       "      <td>22015</td>\n",
       "      <td>1610612747</td>\n",
       "      <td>LAL</td>\n",
       "      <td>Los Angeles Lakers</td>\n",
       "      <td>21501228</td>\n",
       "      <td>2016-04-13</td>\n",
       "      <td>LAL vs. UTA</td>\n",
       "      <td>W</td>\n",
       "      <td>239</td>\n",
       "      <td>101</td>\n",
       "      <td>41</td>\n",
       "      <td>85</td>\n",
       "      <td>0.482</td>\n",
       "      <td>6</td>\n",
       "      <td>25</td>\n",
       "      <td>0.240</td>\n",
       "      <td>13</td>\n",
       "      <td>15</td>\n",
       "      <td>0.867</td>\n",
       "      <td>8</td>\n",
       "      <td>39</td>\n",
       "      <td>47</td>\n",
       "      <td>19</td>\n",
       "      <td>6</td>\n",
       "      <td>3</td>\n",
       "      <td>13</td>\n",
       "      <td>17</td>\n",
       "      <td>5.0</td>\n",
       "    </tr>\n",
       "    <tr>\n",
       "      <th>4</th>\n",
       "      <td>22015</td>\n",
       "      <td>1610612739</td>\n",
       "      <td>CLE</td>\n",
       "      <td>Cleveland Cavaliers</td>\n",
       "      <td>21501220</td>\n",
       "      <td>2016-04-13</td>\n",
       "      <td>CLE vs. DET</td>\n",
       "      <td>L</td>\n",
       "      <td>265</td>\n",
       "      <td>110</td>\n",
       "      <td>46</td>\n",
       "      <td>97</td>\n",
       "      <td>0.474</td>\n",
       "      <td>7</td>\n",
       "      <td>18</td>\n",
       "      <td>0.389</td>\n",
       "      <td>11</td>\n",
       "      <td>15</td>\n",
       "      <td>0.733</td>\n",
       "      <td>8</td>\n",
       "      <td>35</td>\n",
       "      <td>43</td>\n",
       "      <td>21</td>\n",
       "      <td>4</td>\n",
       "      <td>7</td>\n",
       "      <td>10</td>\n",
       "      <td>23</td>\n",
       "      <td>-2.0</td>\n",
       "    </tr>\n",
       "  </tbody>\n",
       "</table>\n",
       "</div>"
      ],
      "text/plain": [
       "   SEASON_ID     TEAM_ID TEAM_ABBREVIATION               TEAM_NAME   GAME_ID  \\\n",
       "0      22015  1610612750               MIN  Minnesota Timberwolves  21501226   \n",
       "1      22015  1610612749               MIL         Milwaukee Bucks  21501225   \n",
       "2      22015  1610612738               BOS          Boston Celtics  21501217   \n",
       "3      22015  1610612747               LAL      Los Angeles Lakers  21501228   \n",
       "4      22015  1610612739               CLE     Cleveland Cavaliers  21501220   \n",
       "\n",
       "    GAME_DATE      MATCHUP WL  MIN  PTS  FGM  FGA  FG_PCT  FG3M  FG3A  \\\n",
       "0  2016-04-13  MIN vs. NOP  W  240  144   56   86   0.651    13    28   \n",
       "1  2016-04-13  MIL vs. IND  L  240   92   37   87   0.425     7    23   \n",
       "2  2016-04-13  BOS vs. MIA  W  240   98   37   86   0.430     5    14   \n",
       "3  2016-04-13  LAL vs. UTA  W  239  101   41   85   0.482     6    25   \n",
       "4  2016-04-13  CLE vs. DET  L  265  110   46   97   0.474     7    18   \n",
       "\n",
       "   FG3_PCT  FTM  FTA  FT_PCT  OREB  DREB  REB  AST  STL  BLK  TOV  PF  \\\n",
       "0    0.464   19   23   0.826     5    38   43   41   14    8   13  20   \n",
       "1    0.304   11   13   0.846     7    36   43   23    8    3   15  15   \n",
       "2    0.357   19   22   0.864    10    29   39   20    7    3    7  20   \n",
       "3    0.240   13   15   0.867     8    39   47   19    6    3   13  17   \n",
       "4    0.389   11   15   0.733     8    35   43   21    4    7   10  23   \n",
       "\n",
       "   PLUS_MINUS  \n",
       "0        35.0  \n",
       "1        -5.0  \n",
       "2        10.0  \n",
       "3         5.0  \n",
       "4        -2.0  "
      ]
     },
     "execution_count": 3,
     "metadata": {},
     "output_type": "execute_result"
    }
   ],
   "source": [
    "NBA_df.head()"
   ]
  },
  {
   "cell_type": "code",
   "execution_count": 4,
   "metadata": {},
   "outputs": [
    {
     "data": {
      "text/plain": [
       "Index(['SEASON_ID', 'TEAM_ID', 'TEAM_ABBREVIATION', 'TEAM_NAME', 'GAME_ID',\n",
       "       'GAME_DATE', 'MATCHUP', 'WL', 'MIN', 'PTS', 'FGM', 'FGA', 'FG_PCT',\n",
       "       'FG3M', 'FG3A', 'FG3_PCT', 'FTM', 'FTA', 'FT_PCT', 'OREB', 'DREB',\n",
       "       'REB', 'AST', 'STL', 'BLK', 'TOV', 'PF', 'PLUS_MINUS'],\n",
       "      dtype='object')"
      ]
     },
     "execution_count": 4,
     "metadata": {},
     "output_type": "execute_result"
    }
   ],
   "source": [
    "NBA_df.columns"
   ]
  },
  {
   "cell_type": "code",
   "execution_count": 5,
   "metadata": {},
   "outputs": [
    {
     "data": {
      "text/plain": [
       "22013    2460\n",
       "22015    2460\n",
       "22014    2460\n",
       "Name: SEASON_ID, dtype: int64"
      ]
     },
     "execution_count": 5,
     "metadata": {},
     "output_type": "execute_result"
    }
   ],
   "source": [
    "NBA_df['SEASON_ID'].value_counts()"
   ]
  },
  {
   "cell_type": "markdown",
   "metadata": {},
   "source": [
    "### Task\n",
    "Split the data into **3** separate files according to the season!"
   ]
  },
  {
   "cell_type": "code",
   "execution_count": 6,
   "metadata": {},
   "outputs": [],
   "source": [
    "NBA_grouped = NBA_df.groupby(NBA_df.SEASON_ID)"
   ]
  },
  {
   "cell_type": "code",
   "execution_count": 7,
   "metadata": {},
   "outputs": [],
   "source": [
    "season_1 = NBA_grouped.get_group(22013) "
   ]
  },
  {
   "cell_type": "code",
   "execution_count": 8,
   "metadata": {},
   "outputs": [],
   "source": [
    "season_2 = NBA_grouped.get_group(22014)"
   ]
  },
  {
   "cell_type": "code",
   "execution_count": 9,
   "metadata": {},
   "outputs": [],
   "source": [
    "season_3 = NBA_grouped.get_group(22015)"
   ]
  },
  {
   "cell_type": "code",
   "execution_count": null,
   "metadata": {},
   "outputs": [],
   "source": []
  },
  {
   "cell_type": "markdown",
   "metadata": {},
   "source": [
    "### Task\n",
    "Test the hypothesis that offensive productions of Cleveland Cavaliers and Golden State Warriors (teams that met in the finals that year) were distributed equally in 2015/2016.\n",
    "\n",
    "Offensive production consists of two variables: PTS (Points) and FG_PCT (Field Goal Percentage). We need to do two separate hypothesis tests, one for each variable."
   ]
  },
  {
   "cell_type": "code",
   "execution_count": 10,
   "metadata": {},
   "outputs": [
    {
     "data": {
      "text/plain": [
       "Index(['SEASON_ID', 'TEAM_ID', 'TEAM_ABBREVIATION', 'TEAM_NAME', 'GAME_ID',\n",
       "       'GAME_DATE', 'MATCHUP', 'WL', 'MIN', 'PTS', 'FGM', 'FGA', 'FG_PCT',\n",
       "       'FG3M', 'FG3A', 'FG3_PCT', 'FTM', 'FTA', 'FT_PCT', 'OREB', 'DREB',\n",
       "       'REB', 'AST', 'STL', 'BLK', 'TOV', 'PF', 'PLUS_MINUS'],\n",
       "      dtype='object')"
      ]
     },
     "execution_count": 10,
     "metadata": {},
     "output_type": "execute_result"
    }
   ],
   "source": [
    "season_3.columns\n",
    "# looking at columns PTS & FG_PCT"
   ]
  },
  {
   "cell_type": "code",
   "execution_count": 12,
   "metadata": {},
   "outputs": [],
   "source": [
    "cavaliers = season_3['TEAM_NAME'] == 'Cleveland Cavaliers' \n",
    "warriors = season_3['TEAM_NAME'] == 'Golden State Warriors'\n",
    "alpha = 0.05"
   ]
  },
  {
   "cell_type": "code",
   "execution_count": 13,
   "metadata": {},
   "outputs": [
    {
     "name": "stdout",
     "output_type": "stream",
     "text": [
      "reject null hypothesis\n"
     ]
    },
    {
     "data": {
      "text/plain": [
       "1.4233420547764935e-08"
      ]
     },
     "execution_count": 13,
     "metadata": {},
     "output_type": "execute_result"
    }
   ],
   "source": [
    "test_PTS = st.ttest_ind(season_3[cavaliers]['PTS'], season_3[warriors]['PTS'])\n",
    "if test_PTS.pvalue > alpha:\n",
    "    print(\"do not reject null hypothesis\")\n",
    "else:\n",
    "    print(\"reject null hypothesis\")\n",
    "test_PTS.pvalue"
   ]
  },
  {
   "cell_type": "code",
   "execution_count": 14,
   "metadata": {},
   "outputs": [
    {
     "name": "stdout",
     "output_type": "stream",
     "text": [
      "reject null hypothesis\n"
     ]
    },
    {
     "data": {
      "text/plain": [
       "0.00206097581047554"
      ]
     },
     "execution_count": 14,
     "metadata": {},
     "output_type": "execute_result"
    }
   ],
   "source": [
    "test_FG_PCT = st.ttest_ind(season_3[cavaliers]['FG_PCT'], season_3[warriors]['FG_PCT'])\n",
    "if test_FG_PCT.pvalue > alpha:\n",
    "    print(\"do not reject null hypothesis\")\n",
    "else:\n",
    "    print(\"reject null hypothesis\")\n",
    "test_FG_PCT.pvalue"
   ]
  },
  {
   "cell_type": "markdown",
   "metadata": {},
   "source": [
    "### Task\n",
    "Test the hypothesis that the number of points (PTS) scored by Cleveland Cavaliers changed significantly after the coach change in the season 2015/2016. **Coach Blatt was fired on 24th of Jan, 2016**. Use the data from seasons 2014/2015 and 2015/2016 - those are years when Cleveland was coached by Blatt. \n",
    "\n",
    "We have two possible solutions here:\n",
    "- take the same amount of games from before and after and try t-test.\n",
    "- take all the games from before and after and look for the right test to compare two samples with different sizes"
   ]
  },
  {
   "cell_type": "code",
   "execution_count": 15,
   "metadata": {},
   "outputs": [],
   "source": [
    "# get all games in season 3 after blatt was fired\n",
    "# get an equal amounts of game season 2\n",
    "# season_3[after_fire_clev].count()\n",
    "alpha = 0.05"
   ]
  },
  {
   "cell_type": "code",
   "execution_count": 16,
   "metadata": {},
   "outputs": [],
   "source": [
    "after_fire_cav = (season_3['TEAM_NAME'] == 'Cleveland Cavaliers') & (season_3['GAME_DATE'] > '2016-01-24')\n",
    "# theres 40 games\n",
    "cav_s2 = (season_2['TEAM_NAME'] == 'Cleveland Cavaliers')\n",
    "before_fire_cav = season_2[cav_s2][:40]"
   ]
  },
  {
   "cell_type": "code",
   "execution_count": 17,
   "metadata": {},
   "outputs": [
    {
     "name": "stdout",
     "output_type": "stream",
     "text": [
      "do not reject null hypothesis\n"
     ]
    },
    {
     "data": {
      "text/plain": [
       "Ttest_indResult(statistic=0.9642175437586037, pvalue=0.3379167999000421)"
      ]
     },
     "execution_count": 17,
     "metadata": {},
     "output_type": "execute_result"
    }
   ],
   "source": [
    "test_PTS_blatt = st.ttest_ind(season_3[after_fire_cav]['PTS'], before_fire_cav['PTS'])\n",
    "if test_PTS_blatt.pvalue > alpha:\n",
    "    print(\"do not reject null hypothesis\")   # chance vocab\n",
    "else:\n",
    "    print(\"reject null hypothesis\")\n",
    "test_PTS_blatt"
   ]
  },
  {
   "cell_type": "code",
   "execution_count": null,
   "metadata": {},
   "outputs": [],
   "source": []
  },
  {
   "cell_type": "code",
   "execution_count": null,
   "metadata": {},
   "outputs": [],
   "source": []
  },
  {
   "cell_type": "markdown",
   "metadata": {},
   "source": [
    "### Task\n",
    "Download [**the similar dataset**](https://drive.google.com/file/d/1jY57bAOZp9y83b4W2PAoSH1uFARaxxls/view?usp=sharing) with scores from playoff games in 2016."
   ]
  },
  {
   "cell_type": "code",
   "execution_count": 19,
   "metadata": {},
   "outputs": [],
   "source": [
    "NBA_2016 = pd.read_csv('nba_playoff_games_2016.csv', sep=';')"
   ]
  },
  {
   "cell_type": "code",
   "execution_count": 20,
   "metadata": {},
   "outputs": [
    {
     "data": {
      "text/html": [
       "<div>\n",
       "<style scoped>\n",
       "    .dataframe tbody tr th:only-of-type {\n",
       "        vertical-align: middle;\n",
       "    }\n",
       "\n",
       "    .dataframe tbody tr th {\n",
       "        vertical-align: top;\n",
       "    }\n",
       "\n",
       "    .dataframe thead th {\n",
       "        text-align: right;\n",
       "    }\n",
       "</style>\n",
       "<table border=\"1\" class=\"dataframe\">\n",
       "  <thead>\n",
       "    <tr style=\"text-align: right;\">\n",
       "      <th></th>\n",
       "      <th>SEASON_ID</th>\n",
       "      <th>TEAM_ID</th>\n",
       "      <th>TEAM_ABBREVIATION</th>\n",
       "      <th>TEAM_NAME</th>\n",
       "      <th>GAME_ID</th>\n",
       "      <th>GAME_DATE</th>\n",
       "      <th>MATCHUP</th>\n",
       "      <th>WL</th>\n",
       "      <th>MIN</th>\n",
       "      <th>PTS</th>\n",
       "      <th>FGM</th>\n",
       "      <th>FGA</th>\n",
       "      <th>FG_PCT</th>\n",
       "      <th>FG3M</th>\n",
       "      <th>FG3A</th>\n",
       "      <th>FG3_PCT</th>\n",
       "      <th>FTM</th>\n",
       "      <th>FTA</th>\n",
       "      <th>FT_PCT</th>\n",
       "      <th>OREB</th>\n",
       "      <th>DREB</th>\n",
       "      <th>REB</th>\n",
       "      <th>AST</th>\n",
       "      <th>STL</th>\n",
       "      <th>BLK</th>\n",
       "      <th>TOV</th>\n",
       "      <th>PF</th>\n",
       "      <th>PLUS_MINUS</th>\n",
       "    </tr>\n",
       "  </thead>\n",
       "  <tbody>\n",
       "    <tr>\n",
       "      <th>0</th>\n",
       "      <td>42015</td>\n",
       "      <td>1610612739</td>\n",
       "      <td>CLE</td>\n",
       "      <td>Cleveland Cavaliers</td>\n",
       "      <td>41500407</td>\n",
       "      <td>2016-06-19</td>\n",
       "      <td>CLE @ GSW</td>\n",
       "      <td>W</td>\n",
       "      <td>241</td>\n",
       "      <td>93</td>\n",
       "      <td>33</td>\n",
       "      <td>82</td>\n",
       "      <td>0.402</td>\n",
       "      <td>6</td>\n",
       "      <td>25</td>\n",
       "      <td>0.240</td>\n",
       "      <td>21</td>\n",
       "      <td>25</td>\n",
       "      <td>0.840</td>\n",
       "      <td>9</td>\n",
       "      <td>39</td>\n",
       "      <td>48</td>\n",
       "      <td>17</td>\n",
       "      <td>7</td>\n",
       "      <td>6</td>\n",
       "      <td>11</td>\n",
       "      <td>15</td>\n",
       "      <td>4.0</td>\n",
       "    </tr>\n",
       "    <tr>\n",
       "      <th>1</th>\n",
       "      <td>42015</td>\n",
       "      <td>1610612744</td>\n",
       "      <td>GSW</td>\n",
       "      <td>Golden State Warriors</td>\n",
       "      <td>41500407</td>\n",
       "      <td>2016-06-19</td>\n",
       "      <td>GSW vs. CLE</td>\n",
       "      <td>L</td>\n",
       "      <td>239</td>\n",
       "      <td>89</td>\n",
       "      <td>32</td>\n",
       "      <td>83</td>\n",
       "      <td>0.386</td>\n",
       "      <td>15</td>\n",
       "      <td>41</td>\n",
       "      <td>0.366</td>\n",
       "      <td>10</td>\n",
       "      <td>13</td>\n",
       "      <td>0.769</td>\n",
       "      <td>7</td>\n",
       "      <td>32</td>\n",
       "      <td>39</td>\n",
       "      <td>22</td>\n",
       "      <td>7</td>\n",
       "      <td>5</td>\n",
       "      <td>10</td>\n",
       "      <td>23</td>\n",
       "      <td>-4.0</td>\n",
       "    </tr>\n",
       "    <tr>\n",
       "      <th>2</th>\n",
       "      <td>42015</td>\n",
       "      <td>1610612744</td>\n",
       "      <td>GSW</td>\n",
       "      <td>Golden State Warriors</td>\n",
       "      <td>41500406</td>\n",
       "      <td>2016-06-16</td>\n",
       "      <td>GSW @ CLE</td>\n",
       "      <td>L</td>\n",
       "      <td>238</td>\n",
       "      <td>101</td>\n",
       "      <td>33</td>\n",
       "      <td>82</td>\n",
       "      <td>0.402</td>\n",
       "      <td>15</td>\n",
       "      <td>39</td>\n",
       "      <td>0.385</td>\n",
       "      <td>20</td>\n",
       "      <td>29</td>\n",
       "      <td>0.690</td>\n",
       "      <td>9</td>\n",
       "      <td>26</td>\n",
       "      <td>35</td>\n",
       "      <td>19</td>\n",
       "      <td>5</td>\n",
       "      <td>3</td>\n",
       "      <td>14</td>\n",
       "      <td>25</td>\n",
       "      <td>-14.0</td>\n",
       "    </tr>\n",
       "    <tr>\n",
       "      <th>3</th>\n",
       "      <td>42015</td>\n",
       "      <td>1610612739</td>\n",
       "      <td>CLE</td>\n",
       "      <td>Cleveland Cavaliers</td>\n",
       "      <td>41500406</td>\n",
       "      <td>2016-06-16</td>\n",
       "      <td>CLE vs. GSW</td>\n",
       "      <td>W</td>\n",
       "      <td>240</td>\n",
       "      <td>115</td>\n",
       "      <td>40</td>\n",
       "      <td>77</td>\n",
       "      <td>0.519</td>\n",
       "      <td>10</td>\n",
       "      <td>27</td>\n",
       "      <td>0.370</td>\n",
       "      <td>25</td>\n",
       "      <td>32</td>\n",
       "      <td>0.781</td>\n",
       "      <td>8</td>\n",
       "      <td>37</td>\n",
       "      <td>45</td>\n",
       "      <td>24</td>\n",
       "      <td>12</td>\n",
       "      <td>7</td>\n",
       "      <td>10</td>\n",
       "      <td>25</td>\n",
       "      <td>14.0</td>\n",
       "    </tr>\n",
       "    <tr>\n",
       "      <th>4</th>\n",
       "      <td>42015</td>\n",
       "      <td>1610612739</td>\n",
       "      <td>CLE</td>\n",
       "      <td>Cleveland Cavaliers</td>\n",
       "      <td>41500405</td>\n",
       "      <td>2016-06-13</td>\n",
       "      <td>CLE @ GSW</td>\n",
       "      <td>W</td>\n",
       "      <td>241</td>\n",
       "      <td>112</td>\n",
       "      <td>44</td>\n",
       "      <td>83</td>\n",
       "      <td>0.530</td>\n",
       "      <td>10</td>\n",
       "      <td>24</td>\n",
       "      <td>0.417</td>\n",
       "      <td>14</td>\n",
       "      <td>23</td>\n",
       "      <td>0.609</td>\n",
       "      <td>8</td>\n",
       "      <td>33</td>\n",
       "      <td>41</td>\n",
       "      <td>15</td>\n",
       "      <td>11</td>\n",
       "      <td>9</td>\n",
       "      <td>16</td>\n",
       "      <td>22</td>\n",
       "      <td>15.0</td>\n",
       "    </tr>\n",
       "  </tbody>\n",
       "</table>\n",
       "</div>"
      ],
      "text/plain": [
       "   SEASON_ID     TEAM_ID TEAM_ABBREVIATION              TEAM_NAME   GAME_ID  \\\n",
       "0      42015  1610612739               CLE    Cleveland Cavaliers  41500407   \n",
       "1      42015  1610612744               GSW  Golden State Warriors  41500407   \n",
       "2      42015  1610612744               GSW  Golden State Warriors  41500406   \n",
       "3      42015  1610612739               CLE    Cleveland Cavaliers  41500406   \n",
       "4      42015  1610612739               CLE    Cleveland Cavaliers  41500405   \n",
       "\n",
       "    GAME_DATE      MATCHUP WL  MIN  PTS  FGM  FGA  FG_PCT  FG3M  FG3A  \\\n",
       "0  2016-06-19    CLE @ GSW  W  241   93   33   82   0.402     6    25   \n",
       "1  2016-06-19  GSW vs. CLE  L  239   89   32   83   0.386    15    41   \n",
       "2  2016-06-16    GSW @ CLE  L  238  101   33   82   0.402    15    39   \n",
       "3  2016-06-16  CLE vs. GSW  W  240  115   40   77   0.519    10    27   \n",
       "4  2016-06-13    CLE @ GSW  W  241  112   44   83   0.530    10    24   \n",
       "\n",
       "   FG3_PCT  FTM  FTA  FT_PCT  OREB  DREB  REB  AST  STL  BLK  TOV  PF  \\\n",
       "0    0.240   21   25   0.840     9    39   48   17    7    6   11  15   \n",
       "1    0.366   10   13   0.769     7    32   39   22    7    5   10  23   \n",
       "2    0.385   20   29   0.690     9    26   35   19    5    3   14  25   \n",
       "3    0.370   25   32   0.781     8    37   45   24   12    7   10  25   \n",
       "4    0.417   14   23   0.609     8    33   41   15   11    9   16  22   \n",
       "\n",
       "   PLUS_MINUS  \n",
       "0         4.0  \n",
       "1        -4.0  \n",
       "2       -14.0  \n",
       "3        14.0  \n",
       "4        15.0  "
      ]
     },
     "execution_count": 20,
     "metadata": {},
     "output_type": "execute_result"
    }
   ],
   "source": [
    "NBA_2016.head()"
   ]
  },
  {
   "cell_type": "markdown",
   "metadata": {},
   "source": [
    "### Task\n",
    "Test the hypothesis that number of blocks (BLK) are from the same distribution in both, in playoffs and in the reguar season 2015/2016 for **Toronto Raptors**. We need to work with two samples with different sizes again."
   ]
  },
  {
   "cell_type": "code",
   "execution_count": 21,
   "metadata": {},
   "outputs": [
    {
     "data": {
      "text/html": [
       "<div>\n",
       "<style scoped>\n",
       "    .dataframe tbody tr th:only-of-type {\n",
       "        vertical-align: middle;\n",
       "    }\n",
       "\n",
       "    .dataframe tbody tr th {\n",
       "        vertical-align: top;\n",
       "    }\n",
       "\n",
       "    .dataframe thead th {\n",
       "        text-align: right;\n",
       "    }\n",
       "</style>\n",
       "<table border=\"1\" class=\"dataframe\">\n",
       "  <thead>\n",
       "    <tr style=\"text-align: right;\">\n",
       "      <th></th>\n",
       "      <th>SEASON_ID</th>\n",
       "      <th>TEAM_ID</th>\n",
       "      <th>TEAM_ABBREVIATION</th>\n",
       "      <th>TEAM_NAME</th>\n",
       "      <th>GAME_ID</th>\n",
       "      <th>GAME_DATE</th>\n",
       "      <th>MATCHUP</th>\n",
       "      <th>WL</th>\n",
       "      <th>MIN</th>\n",
       "      <th>PTS</th>\n",
       "      <th>FGM</th>\n",
       "      <th>FGA</th>\n",
       "      <th>FG_PCT</th>\n",
       "      <th>FG3M</th>\n",
       "      <th>FG3A</th>\n",
       "      <th>FG3_PCT</th>\n",
       "      <th>FTM</th>\n",
       "      <th>FTA</th>\n",
       "      <th>FT_PCT</th>\n",
       "      <th>OREB</th>\n",
       "      <th>DREB</th>\n",
       "      <th>REB</th>\n",
       "      <th>AST</th>\n",
       "      <th>STL</th>\n",
       "      <th>BLK</th>\n",
       "      <th>TOV</th>\n",
       "      <th>PF</th>\n",
       "      <th>PLUS_MINUS</th>\n",
       "    </tr>\n",
       "  </thead>\n",
       "  <tbody>\n",
       "    <tr>\n",
       "      <th>9</th>\n",
       "      <td>22015</td>\n",
       "      <td>1610612761</td>\n",
       "      <td>TOR</td>\n",
       "      <td>Toronto Raptors</td>\n",
       "      <td>21501218</td>\n",
       "      <td>2016-04-13</td>\n",
       "      <td>TOR @ BKN</td>\n",
       "      <td>W</td>\n",
       "      <td>241</td>\n",
       "      <td>103</td>\n",
       "      <td>41</td>\n",
       "      <td>93</td>\n",
       "      <td>0.441</td>\n",
       "      <td>13</td>\n",
       "      <td>37</td>\n",
       "      <td>0.351</td>\n",
       "      <td>8</td>\n",
       "      <td>15</td>\n",
       "      <td>0.533</td>\n",
       "      <td>16</td>\n",
       "      <td>41</td>\n",
       "      <td>57</td>\n",
       "      <td>24</td>\n",
       "      <td>5</td>\n",
       "      <td>10</td>\n",
       "      <td>9</td>\n",
       "      <td>12</td>\n",
       "      <td>7.0</td>\n",
       "    </tr>\n",
       "    <tr>\n",
       "      <th>28</th>\n",
       "      <td>22015</td>\n",
       "      <td>1610612761</td>\n",
       "      <td>TOR</td>\n",
       "      <td>Toronto Raptors</td>\n",
       "      <td>21501214</td>\n",
       "      <td>2016-04-12</td>\n",
       "      <td>TOR vs. PHI</td>\n",
       "      <td>W</td>\n",
       "      <td>239</td>\n",
       "      <td>122</td>\n",
       "      <td>48</td>\n",
       "      <td>95</td>\n",
       "      <td>0.505</td>\n",
       "      <td>10</td>\n",
       "      <td>25</td>\n",
       "      <td>0.400</td>\n",
       "      <td>16</td>\n",
       "      <td>19</td>\n",
       "      <td>0.842</td>\n",
       "      <td>16</td>\n",
       "      <td>36</td>\n",
       "      <td>52</td>\n",
       "      <td>25</td>\n",
       "      <td>11</td>\n",
       "      <td>5</td>\n",
       "      <td>13</td>\n",
       "      <td>20</td>\n",
       "      <td>24.0</td>\n",
       "    </tr>\n",
       "    <tr>\n",
       "      <th>71</th>\n",
       "      <td>22015</td>\n",
       "      <td>1610612761</td>\n",
       "      <td>TOR</td>\n",
       "      <td>Toronto Raptors</td>\n",
       "      <td>21501202</td>\n",
       "      <td>2016-04-10</td>\n",
       "      <td>TOR @ NYK</td>\n",
       "      <td>W</td>\n",
       "      <td>240</td>\n",
       "      <td>93</td>\n",
       "      <td>37</td>\n",
       "      <td>78</td>\n",
       "      <td>0.474</td>\n",
       "      <td>7</td>\n",
       "      <td>20</td>\n",
       "      <td>0.350</td>\n",
       "      <td>12</td>\n",
       "      <td>19</td>\n",
       "      <td>0.632</td>\n",
       "      <td>7</td>\n",
       "      <td>31</td>\n",
       "      <td>38</td>\n",
       "      <td>19</td>\n",
       "      <td>4</td>\n",
       "      <td>6</td>\n",
       "      <td>6</td>\n",
       "      <td>19</td>\n",
       "      <td>4.0</td>\n",
       "    </tr>\n",
       "    <tr>\n",
       "      <th>96</th>\n",
       "      <td>22015</td>\n",
       "      <td>1610612761</td>\n",
       "      <td>TOR</td>\n",
       "      <td>Toronto Raptors</td>\n",
       "      <td>21501183</td>\n",
       "      <td>2016-04-08</td>\n",
       "      <td>TOR vs. IND</td>\n",
       "      <td>W</td>\n",
       "      <td>241</td>\n",
       "      <td>111</td>\n",
       "      <td>37</td>\n",
       "      <td>68</td>\n",
       "      <td>0.544</td>\n",
       "      <td>10</td>\n",
       "      <td>22</td>\n",
       "      <td>0.455</td>\n",
       "      <td>27</td>\n",
       "      <td>38</td>\n",
       "      <td>0.711</td>\n",
       "      <td>5</td>\n",
       "      <td>31</td>\n",
       "      <td>36</td>\n",
       "      <td>21</td>\n",
       "      <td>4</td>\n",
       "      <td>5</td>\n",
       "      <td>16</td>\n",
       "      <td>19</td>\n",
       "      <td>13.0</td>\n",
       "    </tr>\n",
       "    <tr>\n",
       "      <th>110</th>\n",
       "      <td>22015</td>\n",
       "      <td>1610612761</td>\n",
       "      <td>TOR</td>\n",
       "      <td>Toronto Raptors</td>\n",
       "      <td>21501173</td>\n",
       "      <td>2016-04-07</td>\n",
       "      <td>TOR @ ATL</td>\n",
       "      <td>L</td>\n",
       "      <td>240</td>\n",
       "      <td>87</td>\n",
       "      <td>32</td>\n",
       "      <td>84</td>\n",
       "      <td>0.381</td>\n",
       "      <td>8</td>\n",
       "      <td>21</td>\n",
       "      <td>0.381</td>\n",
       "      <td>15</td>\n",
       "      <td>20</td>\n",
       "      <td>0.750</td>\n",
       "      <td>8</td>\n",
       "      <td>38</td>\n",
       "      <td>46</td>\n",
       "      <td>16</td>\n",
       "      <td>10</td>\n",
       "      <td>4</td>\n",
       "      <td>11</td>\n",
       "      <td>16</td>\n",
       "      <td>-8.0</td>\n",
       "    </tr>\n",
       "  </tbody>\n",
       "</table>\n",
       "</div>"
      ],
      "text/plain": [
       "     SEASON_ID     TEAM_ID TEAM_ABBREVIATION        TEAM_NAME   GAME_ID  \\\n",
       "9        22015  1610612761               TOR  Toronto Raptors  21501218   \n",
       "28       22015  1610612761               TOR  Toronto Raptors  21501214   \n",
       "71       22015  1610612761               TOR  Toronto Raptors  21501202   \n",
       "96       22015  1610612761               TOR  Toronto Raptors  21501183   \n",
       "110      22015  1610612761               TOR  Toronto Raptors  21501173   \n",
       "\n",
       "      GAME_DATE      MATCHUP WL  MIN  PTS  FGM  FGA  FG_PCT  FG3M  FG3A  \\\n",
       "9    2016-04-13    TOR @ BKN  W  241  103   41   93   0.441    13    37   \n",
       "28   2016-04-12  TOR vs. PHI  W  239  122   48   95   0.505    10    25   \n",
       "71   2016-04-10    TOR @ NYK  W  240   93   37   78   0.474     7    20   \n",
       "96   2016-04-08  TOR vs. IND  W  241  111   37   68   0.544    10    22   \n",
       "110  2016-04-07    TOR @ ATL  L  240   87   32   84   0.381     8    21   \n",
       "\n",
       "     FG3_PCT  FTM  FTA  FT_PCT  OREB  DREB  REB  AST  STL  BLK  TOV  PF  \\\n",
       "9      0.351    8   15   0.533    16    41   57   24    5   10    9  12   \n",
       "28     0.400   16   19   0.842    16    36   52   25   11    5   13  20   \n",
       "71     0.350   12   19   0.632     7    31   38   19    4    6    6  19   \n",
       "96     0.455   27   38   0.711     5    31   36   21    4    5   16  19   \n",
       "110    0.381   15   20   0.750     8    38   46   16   10    4   11  16   \n",
       "\n",
       "     PLUS_MINUS  \n",
       "9           7.0  \n",
       "28         24.0  \n",
       "71          4.0  \n",
       "96         13.0  \n",
       "110        -8.0  "
      ]
     },
     "execution_count": 21,
     "metadata": {},
     "output_type": "execute_result"
    }
   ],
   "source": [
    "playoff_raptors = NBA_2016['TEAM_NAME'] == 'Toronto Raptors'\n",
    "# there's 20 playoff Raptors games\n",
    "raptors = season_3['TEAM_NAME'] == 'Toronto Raptors'\n",
    "season_3[raptors][0:20].head()"
   ]
  },
  {
   "cell_type": "code",
   "execution_count": 208,
   "metadata": {},
   "outputs": [],
   "source": [
    "alpha = 0.05"
   ]
  },
  {
   "cell_type": "code",
   "execution_count": 22,
   "metadata": {},
   "outputs": [
    {
     "name": "stdout",
     "output_type": "stream",
     "text": [
      "reject null hypothesis\n"
     ]
    },
    {
     "data": {
      "text/plain": [
       "0.00013696208843433274"
      ]
     },
     "execution_count": 22,
     "metadata": {},
     "output_type": "execute_result"
    }
   ],
   "source": [
    "test_BLK = st.ttest_ind(NBA_2016[playoff_raptors]['BLK'], season_3[raptors][0:20]['BLK'])\n",
    "if test_BLK.pvalue > alpha:\n",
    "    print(\"do not reject null hypothesis\")\n",
    "else:\n",
    "    print(\"reject null hypothesis\")\n",
    "test_BLK.pvalue    "
   ]
  },
  {
   "cell_type": "code",
   "execution_count": null,
   "metadata": {},
   "outputs": [],
   "source": []
  },
  {
   "cell_type": "markdown",
   "metadata": {},
   "source": [
    "### Task\n",
    "Test the hypothesis that the number of points (PTS) scored by Cleveland Cavaliers is equally distributed for all 3 seasons. In this case, we need a hypothesis test that compares more than 2 distributions at the same."
   ]
  },
  {
   "cell_type": "code",
   "execution_count": 23,
   "metadata": {},
   "outputs": [],
   "source": [
    "cavaliers1 = season_1['TEAM_NAME'] == 'Cleveland Cavaliers'"
   ]
  },
  {
   "cell_type": "code",
   "execution_count": 24,
   "metadata": {},
   "outputs": [],
   "source": [
    "cavaliers2 = season_2['TEAM_NAME'] == 'Cleveland Cavaliers'"
   ]
  },
  {
   "cell_type": "code",
   "execution_count": 25,
   "metadata": {},
   "outputs": [],
   "source": [
    "cavaliers3 = season_3['TEAM_NAME'] == 'Cleveland Cavaliers'"
   ]
  },
  {
   "cell_type": "code",
   "execution_count": 27,
   "metadata": {},
   "outputs": [
    {
     "name": "stdout",
     "output_type": "stream",
     "text": [
      "reject null hypothesis\n"
     ]
    },
    {
     "data": {
      "text/plain": [
       "0.003087727119983984"
      ]
     },
     "execution_count": 27,
     "metadata": {},
     "output_type": "execute_result"
    }
   ],
   "source": [
    "anova_cavaliers = st.f_oneway(season_1[cavaliers1]['PTS'], season_2[cavaliers2]['PTS'], season_3[cavaliers]['PTS'])\n",
    "if anova_cavaliers.pvalue > alpha:\n",
    "    print(\"do not rejecr null hypothesis null hypothesis\")\n",
    "else:\n",
    "    print(\"reject null hypothesis\")\n",
    "anova_cavaliers.pvalue"
   ]
  },
  {
   "cell_type": "markdown",
   "metadata": {},
   "source": [
    "#### Follow Up\n",
    "Between which seasons can we see the significant difference?\n",
    "+ unfortunatelly, this is not the output of the ANOVA test and further tests need to be run.\n",
    "+ note that Lebron James came back to Cleveland prior to season 2014/2015. We can use this fact to interpret the results correctly."
   ]
  },
  {
   "cell_type": "code",
   "execution_count": 230,
   "metadata": {},
   "outputs": [],
   "source": [
    "# need post hoc analysis? haven't seen how to do that yet"
   ]
  },
  {
   "cell_type": "code",
   "execution_count": 237,
   "metadata": {},
   "outputs": [],
   "source": [
    "# from our anova we know that the number of points (PTS) for cavaliers across the 3 seasons are not equally distributed\n",
    "# however, we don't know which distributions differ"
   ]
  },
  {
   "cell_type": "code",
   "execution_count": 28,
   "metadata": {},
   "outputs": [
    {
     "name": "stdout",
     "output_type": "stream",
     "text": [
      "do not reject null hypothesis\n"
     ]
    },
    {
     "data": {
      "text/plain": [
       "0.5203507617734474"
      ]
     },
     "execution_count": 28,
     "metadata": {},
     "output_type": "execute_result"
    }
   ],
   "source": [
    "test1 = st.ttest_ind(season_2[cavaliers2]['PTS'], season_3[cavaliers3]['PTS'])\n",
    "if test1.pvalue > alpha:\n",
    "    print(\"do not reject null hypothesis\")\n",
    "else:\n",
    "    print(\"reject null hypothese\")\n",
    "test1.pvalue"
   ]
  },
  {
   "cell_type": "code",
   "execution_count": 232,
   "metadata": {},
   "outputs": [],
   "source": [
    "# since LeBron James came back in season 2, from test1 looks like season 2 & 3 PTS are equally distributed, so likely that\n",
    "# their distribution differ from season 1 PTS"
   ]
  }
 ],
 "metadata": {
  "kernelspec": {
   "display_name": "Python 3",
   "language": "python",
   "name": "python3"
  },
  "language_info": {
   "codemirror_mode": {
    "name": "ipython",
    "version": 3
   },
   "file_extension": ".py",
   "mimetype": "text/x-python",
   "name": "python",
   "nbconvert_exporter": "python",
   "pygments_lexer": "ipython3",
   "version": "3.8.5"
  }
 },
 "nbformat": 4,
 "nbformat_minor": 4
}
